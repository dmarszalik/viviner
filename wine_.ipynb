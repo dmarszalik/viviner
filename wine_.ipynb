{
  "cells": [
    {
      "cell_type": "code",
      "execution_count": 1,
      "metadata": {
        "id": "S3_9xzjmga--"
      },
      "outputs": [],
      "source": [
        "import pandas as pd\n",
        "import numpy as np\n",
        "import os\n",
        "\n",
        "import ast\n",
        "\n",
        "from tqdm.notebook import tqdm\n",
        "\n",
        "import matplotlib.pyplot as plt"
      ]
    },
    {
      "cell_type": "code",
      "execution_count": 2,
      "metadata": {
        "colab": {
          "base_uri": "https://localhost:8080/",
          "height": 250
        },
        "id": "oXf7rYQnhecA",
        "outputId": "6fb77c8c-2def-4a8e-fff4-6976018ab412"
      },
      "outputs": [
        {
          "ename": "FileNotFoundError",
          "evalue": "[Errno 2] No such file or directory: '/content/drive/MyDrive/datasets/wines'",
          "output_type": "error",
          "traceback": [
            "\u001b[0;31m---------------------------------------------------------------------------\u001b[0m",
            "\u001b[0;31mFileNotFoundError\u001b[0m                         Traceback (most recent call last)",
            "\u001b[0;32m<ipython-input-2-59c9f7f39ed5>\u001b[0m in \u001b[0;36m<cell line: 4>\u001b[0;34m()\u001b[0m\n\u001b[1;32m      2\u001b[0m \u001b[0mfolder_path\u001b[0m \u001b[0;34m=\u001b[0m \u001b[0;34m'/content/drive/MyDrive/datasets/wines'\u001b[0m\u001b[0;34m\u001b[0m\u001b[0;34m\u001b[0m\u001b[0m\n\u001b[1;32m      3\u001b[0m \u001b[0;34m\u001b[0m\u001b[0m\n\u001b[0;32m----> 4\u001b[0;31m \u001b[0mprogress_bar\u001b[0m \u001b[0;34m=\u001b[0m \u001b[0mtqdm\u001b[0m\u001b[0;34m(\u001b[0m\u001b[0mos\u001b[0m\u001b[0;34m.\u001b[0m\u001b[0mlistdir\u001b[0m\u001b[0;34m(\u001b[0m\u001b[0mfolder_path\u001b[0m\u001b[0;34m)\u001b[0m\u001b[0;34m,\u001b[0m \u001b[0mdesc\u001b[0m\u001b[0;34m=\u001b[0m\u001b[0;34m\"Processing files\"\u001b[0m\u001b[0;34m,\u001b[0m \u001b[0mleave\u001b[0m\u001b[0;34m=\u001b[0m\u001b[0;32mTrue\u001b[0m\u001b[0;34m)\u001b[0m\u001b[0;34m\u001b[0m\u001b[0;34m\u001b[0m\u001b[0m\n\u001b[0m\u001b[1;32m      5\u001b[0m \u001b[0;34m\u001b[0m\u001b[0m\n\u001b[1;32m      6\u001b[0m \u001b[0;31m# Initialize an empty list to store DataFrames\u001b[0m\u001b[0;34m\u001b[0m\u001b[0;34m\u001b[0m\u001b[0m\n",
            "\u001b[0;31mFileNotFoundError\u001b[0m: [Errno 2] No such file or directory: '/content/drive/MyDrive/datasets/wines'"
          ]
        }
      ],
      "source": [
        "# Path to folder with JSON files\n",
        "folder_path = '/content/drive/MyDrive/datasets/wines'\n",
        "\n",
        "progress_bar = tqdm(os.listdir(folder_path), desc=\"Processing files\", leave=True)\n",
        "\n",
        "# Initialize an empty list to store DataFrames\n",
        "dataframes = []\n",
        "\n",
        "# Go through the files in the folder and load them into the DataFrame\n",
        "for file in os.listdir(folder_path):\n",
        "    if file.endswith('.json'):\n",
        "        file_path = os.path.join(folder_path, file)\n",
        "        try:\n",
        "            df = pd.read_json(file_path)\n",
        "            dataframes.append(df)\n",
        "        except Exception as e:\n",
        "            print(f\"File loading error {file}: {e}\")\n",
        "\n",
        "# Combine all DataFrames into one\n",
        "merged_dataframe = pd.concat(dataframes, ignore_index=True)\n",
        "\n",
        "# Save to CSV\n",
        "csv_filename = '/content/drive/MyDrive/datasets/merged_wine_data.csv'\n",
        "merged_dataframe.to_csv(csv_filename, index=False)\n",
        "\n",
        "print(f\"Successfully merged and saved in {csv_filename}\")"
      ]
    },
    {
      "cell_type": "code",
      "execution_count": 2,
      "metadata": {
        "id": "H1IH63Yxx33r"
      },
      "outputs": [],
      "source": [
        "dataframe = pd.read_csv('merged_wine_data.csv')"
      ]
    },
    {
      "cell_type": "code",
      "execution_count": 20,
      "metadata": {
        "colab": {
          "base_uri": "https://localhost:8080/"
        },
        "id": "7yWqTNMI3JMZ",
        "outputId": "6fa425ba-4219-4d68-a623-7191fa60f9dc"
      },
      "outputs": [
        {
          "data": {
            "text/plain": [
              "<bound method NDFrame.head of                                                    wines\n",
              "0      {'name': 'Moscato', 'price': {'id': 33340883, ...\n",
              "1      {'name': 'Indisciplinato', 'price': {'id': 309...\n",
              "2      {'name': 'Reserve Collection Pinot Noir', 'pri...\n",
              "3      {'name': \"Stokes' Ghost Petite Sirah\", 'price'...\n",
              "4      {'name': 'Défier Coquelicot Vineyard Merlot', ...\n",
              "...                                                  ...\n",
              "26820  {'name': 'Bloom & Bramble Chardonnay', 'price'...\n",
              "26821  {'name': 'Royal Seyssel Grand Cru Régional', '...\n",
              "26822  {'name': 'Grande Reserve Côtes de Bourg Rouge'...\n",
              "26823  {'name': 'Argenina Gran Selezione Chianti Clas...\n",
              "26824  {'name': 'Private Reserve Pinot Noir', 'price'...\n",
              "\n",
              "[26825 rows x 1 columns]>"
            ]
          },
          "execution_count": 20,
          "metadata": {},
          "output_type": "execute_result"
        }
      ],
      "source": [
        "dataframe.head"
      ]
    },
    {
      "cell_type": "code",
      "execution_count": 22,
      "metadata": {
        "colab": {
          "base_uri": "https://localhost:8080/"
        },
        "id": "WqjFcCvzu8te",
        "outputId": "275fcc0c-a8ef-4637-9bdf-6e20d7da442f"
      },
      "outputs": [
        {
          "data": {
            "text/plain": [
              "wines    {'name': 'Merlot', 'price': {'id': 28440603, '...\n",
              "Name: 11, dtype: object"
            ]
          },
          "execution_count": 22,
          "metadata": {},
          "output_type": "execute_result"
        }
      ],
      "source": [
        "dataframe.iloc[11]"
      ]
    },
    {
      "cell_type": "code",
      "execution_count": 5,
      "metadata": {
        "id": "XIPOrGap1qWM"
      },
      "outputs": [],
      "source": []
    },
    {
      "cell_type": "code",
      "execution_count": 6,
      "metadata": {
        "colab": {
          "base_uri": "https://localhost:8080/"
        },
        "id": "ZR05gNf724Xd",
        "outputId": "cb6bcf1f-b226-4893-cf07-22375f62b45b"
      },
      "outputs": [
        {
          "data": {
            "text/plain": [
              "{'name': 'Merlot',\n",
              " 'price': {'id': 28440603,\n",
              "  'merchant_id': 31839,\n",
              "  'amount': 29.99,\n",
              "  'discounted_from': None,\n",
              "  'discount_percent': None,\n",
              "  'type': 'vc',\n",
              "  'sku': '63574',\n",
              "  'url': 'https://www.classycorksdc.com/wines/Starmont-Winery-Merlot-2018-w4314924v2?utm_source=Vivino&utm_medium=Feed',\n",
              "  'visibility': 1,\n",
              "  'bottle_type_id': 1,\n",
              "  'currency': {'code': 'USD',\n",
              "   'name': 'US Dollars',\n",
              "   'prefix': '$',\n",
              "   'suffix': None},\n",
              "  'bottle_type': {'id': 1,\n",
              "   'name': 'Bottle (0.75l)',\n",
              "   'short_name': 'bottle',\n",
              "   'short_name_plural': 'bottles',\n",
              "   'volume_ml': 750}},\n",
              " 'taste': {'structure': {'acidity': 1.857961,\n",
              "   'fizziness': None,\n",
              "   'intensity': 3.9818263,\n",
              "   'sweetness': 1.9654433,\n",
              "   'tannin': 2.1349912,\n",
              "   'user_structure_count': 16,\n",
              "   'calculated_structure_count': 121},\n",
              "  'flavor': [{'group': 'oak',\n",
              "    'stats': {'count': 79, 'score': 12550, 'mentions_count': 139},\n",
              "    'primary_keywords': [{'id': 292, 'name': 'oak', 'count': 39},\n",
              "     {'id': 434, 'name': 'vanilla', 'count': 38},\n",
              "     {'id': 101, 'name': 'chocolate', 'count': 16},\n",
              "     {'id': 422, 'name': 'tobacco', 'count': 15},\n",
              "     {'id': 83, 'name': 'cedar', 'count': 12},\n",
              "     {'id': 117, 'name': 'coffee', 'count': 4},\n",
              "     {'id': 21, 'name': 'baking spice', 'count': 4},\n",
              "     {'id': 112, 'name': 'clove', 'count': 3},\n",
              "     {'id': 134, 'name': 'dark chocolate', 'count': 3},\n",
              "     {'id': 79, 'name': 'caramel', 'count': 1},\n",
              "     {'id': 138, 'name': 'dill', 'count': 1},\n",
              "     {'id': 275, 'name': 'milk chocolate', 'count': 1},\n",
              "     {'id': 115, 'name': 'coconut', 'count': 1},\n",
              "     {'id': 308, 'name': 'pastry', 'count': 1}],\n",
              "    'secondary_keywords': [{'id': 242, 'name': 'leather', 'count': 8},\n",
              "     {'id': 384, 'name': 'smoke', 'count': 5},\n",
              "     {'id': 65, 'name': 'brown sugar', 'count': 1},\n",
              "     {'id': 81, 'name': 'carob', 'count': 1}]},\n",
              "   {'group': 'black_fruit',\n",
              "    'stats': {'count': 66, 'score': 9943, 'mentions_count': 100},\n",
              "    'primary_keywords': [{'id': 334, 'name': 'plum', 'count': 33},\n",
              "     {'id': 49, 'name': 'blackberry', 'count': 24},\n",
              "     {'id': 55, 'name': 'blueberry', 'count': 12},\n",
              "     {'id': 470, 'name': 'cassis', 'count': 7},\n",
              "     {'id': 135, 'name': 'dark fruit', 'count': 6},\n",
              "     {'id': 52, 'name': 'blackcurrant', 'count': 6},\n",
              "     {'id': 43, 'name': 'black plum', 'count': 4},\n",
              "     {'id': 39, 'name': 'black fruit', 'count': 3},\n",
              "     {'id': 229, 'name': 'jam', 'count': 2},\n",
              "     {'id': 38, 'name': 'black cherry', 'count': 2},\n",
              "     {'id': 57, 'name': 'bramble', 'count': 1}],\n",
              "    'secondary_keywords': [{'id': 341, 'name': 'prune', 'count': 3}]},\n",
              "   {'group': 'red_fruit',\n",
              "    'stats': {'count': 44, 'score': 5198, 'mentions_count': 51},\n",
              "    'primary_keywords': [{'id': 93, 'name': 'cherry', 'count': 23},\n",
              "     {'id': 348, 'name': 'raspberry', 'count': 12},\n",
              "     {'id': 354, 'name': 'red fruit', 'count': 7},\n",
              "     {'id': 400, 'name': 'strawberry', 'count': 5},\n",
              "     {'id': 122, 'name': 'cranberry', 'count': 2},\n",
              "     {'id': 353, 'name': 'red currant', 'count': 1},\n",
              "     {'id': 357, 'name': 'red plum', 'count': 1}],\n",
              "    'secondary_keywords': [{'id': 229, 'name': 'jam', 'count': 2},\n",
              "     {'id': 38, 'name': 'black cherry', 'count': 2},\n",
              "     {'id': 176, 'name': 'fruitcake', 'count': 2}]},\n",
              "   {'group': 'earth',\n",
              "    'stats': {'count': 32, 'score': 2988, 'mentions_count': 28},\n",
              "    'primary_keywords': [{'id': 242, 'name': 'leather', 'count': 8},\n",
              "     {'id': 384, 'name': 'smoke', 'count': 5},\n",
              "     {'id': 156, 'name': 'earthy', 'count': 3},\n",
              "     {'id': 178, 'name': 'game', 'count': 2},\n",
              "     {'id': 284, 'name': 'mushroom', 'count': 1},\n",
              "     {'id': 276, 'name': 'minerals', 'count': 1},\n",
              "     {'id': 192, 'name': 'graphite', 'count': 1},\n",
              "     {'id': 226, 'name': 'iron', 'count': 1},\n",
              "     {'id': 207, 'name': 'grilled meat', 'count': 1},\n",
              "     {'id': 466, 'name': 'plastic', 'count': 1},\n",
              "     {'id': 430, 'name': 'truffle', 'count': 1},\n",
              "     {'id': 318, 'name': 'pencil shavings', 'count': 1},\n",
              "     {'id': 22, 'name': 'balsamic', 'count': 1},\n",
              "     {'id': 412, 'name': 'tar', 'count': 1}],\n",
              "    'secondary_keywords': [{'id': 422, 'name': 'tobacco', 'count': 15},\n",
              "     {'id': 134, 'name': 'dark chocolate', 'count': 3},\n",
              "     {'id': 350, 'name': 'red beet', 'count': 1}]},\n",
              "   {'group': 'spices',\n",
              "    'stats': {'count': 52, 'score': 2107, 'mentions_count': 18},\n",
              "    'primary_keywords': [{'id': 320, 'name': 'pepper', 'count': 10},\n",
              "     {'id': 277, 'name': 'mint', 'count': 4},\n",
              "     {'id': 375, 'name': 'sage', 'count': 2},\n",
              "     {'id': 7, 'name': 'anise', 'count': 1},\n",
              "     {'id': 249, 'name': 'licorice', 'count': 1}],\n",
              "    'secondary_keywords': [{'id': 434, 'name': 'vanilla', 'count': 38},\n",
              "     {'id': 112, 'name': 'clove', 'count': 3},\n",
              "     {'id': 138, 'name': 'dill', 'count': 1}]},\n",
              "   {'group': 'dried_fruit',\n",
              "    'stats': {'count': 11, 'score': 1223, 'mentions_count': 13},\n",
              "    'primary_keywords': [{'id': 163, 'name': 'fig', 'count': 4},\n",
              "     {'id': 341, 'name': 'prune', 'count': 3},\n",
              "     {'id': 147, 'name': 'dried fruit', 'count': 3},\n",
              "     {'id': 176, 'name': 'fruitcake', 'count': 2},\n",
              "     {'id': 347, 'name': 'raisin', 'count': 1}],\n",
              "    'secondary_keywords': [{'id': 229, 'name': 'jam', 'count': 2}]},\n",
              "   {'group': 'non_oak',\n",
              "    'stats': {'count': 60, 'score': 1267, 'mentions_count': 5},\n",
              "    'primary_keywords': [{'id': 417, 'name': 'toast', 'count': 3},\n",
              "     {'id': 65, 'name': 'brown sugar', 'count': 1},\n",
              "     {'id': 81, 'name': 'carob', 'count': 1}],\n",
              "    'secondary_keywords': [{'id': 434, 'name': 'vanilla', 'count': 38},\n",
              "     {'id': 422, 'name': 'tobacco', 'count': 15},\n",
              "     {'id': 83, 'name': 'cedar', 'count': 12},\n",
              "     {'id': 384, 'name': 'smoke', 'count': 5},\n",
              "     {'id': 117, 'name': 'coffee', 'count': 4},\n",
              "     {'id': 163, 'name': 'fig', 'count': 4},\n",
              "     {'id': 112, 'name': 'clove', 'count': 3},\n",
              "     {'id': 79, 'name': 'caramel', 'count': 1}]},\n",
              "   {'group': 'microbio',\n",
              "    'stats': {'count': 8, 'score': 574, 'mentions_count': 4},\n",
              "    'primary_keywords': [{'id': 91, 'name': 'cheese', 'count': 3},\n",
              "     {'id': 123, 'name': 'cream', 'count': 1}],\n",
              "    'secondary_keywords': [{'id': 417, 'name': 'toast', 'count': 3},\n",
              "     {'id': 284, 'name': 'mushroom', 'count': 1},\n",
              "     {'id': 430, 'name': 'truffle', 'count': 1}]},\n",
              "   {'group': 'citrus_fruit',\n",
              "    'stats': {'count': 3, 'score': 300, 'mentions_count': 3},\n",
              "    'primary_keywords': [{'id': 298, 'name': 'orange', 'count': 1},\n",
              "     {'id': 106, 'name': 'citrus', 'count': 1},\n",
              "     {'id': 109, 'name': 'citrus zest', 'count': 1}]},\n",
              "   {'group': 'floral',\n",
              "    'stats': {'count': 3, 'score': 300, 'mentions_count': 3},\n",
              "    'primary_keywords': [{'id': 241, 'name': 'lavender', 'count': 1},\n",
              "     {'id': 221, 'name': 'honeysuckle', 'count': 1},\n",
              "     {'id': 436, 'name': 'violet', 'count': 1}]},\n",
              "   {'group': 'vegetal',\n",
              "    'stats': {'count': 3, 'score': 250, 'mentions_count': 3},\n",
              "    'primary_keywords': [{'id': 350, 'name': 'red beet', 'count': 1},\n",
              "     {'id': 425, 'name': 'tomato', 'count': 1},\n",
              "     {'id': 359, 'name': 'rhubarb', 'count': 1}]},\n",
              "   {'group': 'tree_fruit',\n",
              "    'stats': {'count': 1, 'score': 100, 'mentions_count': 1},\n",
              "    'primary_keywords': [{'id': 310, 'name': 'peach', 'count': 1}]}]},\n",
              " 'reviews': [{'id': 141856059,\n",
              "   'rating': 3.5,\n",
              "   'note': 'Spicy plum on the nose holds promise! Overall flavor notes suggest plum and vanilla spice with a very subtle hint of smoke. Smooth, rich finish with balanced tannins. I’m not typically a merlot drinker, but the complexity of this wine kept my interest!',\n",
              "   'language': 'en',\n",
              "   'created_at': '2019-10-24T19:10:37.000Z',\n",
              "   'aggregated': True,\n",
              "   'user': {'id': 28329524,\n",
              "    'seo_name': 'sarah_simon1',\n",
              "    'alias': 'Sarah Simon',\n",
              "    'is_featured': False,\n",
              "    'is_premium': True,\n",
              "    'visibility': 'all',\n",
              "    'image': {'location': '//images.vivino.com/avatars/EnUJGOs0TGym4zGtNcykZA.jpg',\n",
              "     'variations': {'large': '//thumbs.vivino.com/avatars/EnUJGOs0TGym4zGtNcykZA_300x300.jpg',\n",
              "      'small_square': '//thumbs.vivino.com/avatars/EnUJGOs0TGym4zGtNcykZA_50x50.jpg'}},\n",
              "    'statistics': {'followers_count': 233,\n",
              "     'followings_count': 254,\n",
              "     'ratings_count': 1188,\n",
              "     'ratings_sum': 4262.4,\n",
              "     'reviews_count': 1188,\n",
              "     'purchase_order_count': 36},\n",
              "    'language': 'en',\n",
              "    'background_image': {'location': '//images.vivino.com/users/backgrounds/5efOz5j2QhKQM7rVxUtW0w.jpg',\n",
              "     'variations': {'large': '//thumbs.vivino.com/backgrounds/5efOz5j2QhKQM7rVxUtW0w_1200x400.jpg',\n",
              "      'medium': '//thumbs.vivino.com/backgrounds/5efOz5j2QhKQM7rVxUtW0w_600x200.jpg',\n",
              "      'small': '//thumbs.vivino.com/backgrounds/5efOz5j2QhKQM7rVxUtW0w_140x60.jpg'}}},\n",
              "   'vintage': {'id': 3911005,\n",
              "    'seo_name': 'starmont-merlot-uv',\n",
              "    'name': 'Starmont Merlot U.V.',\n",
              "    'statistics': {'status': 'Normal',\n",
              "     'ratings_count': 1287,\n",
              "     'ratings_average': 3.9,\n",
              "     'labels_count': 9,\n",
              "     'reviews_count': 9},\n",
              "    'organic_certification_id': None,\n",
              "    'certified_biodynamic': None,\n",
              "    'image': {'location': '//images.vivino.com/thumbs/cDIksk8eSleBrxUfHsHXuQ_pl_480x640.png',\n",
              "     'variations': {'bottle_large': '//images.vivino.com/thumbs/cDIksk8eSleBrxUfHsHXuQ_pb_x960.png',\n",
              "      'bottle_medium': '//images.vivino.com/thumbs/cDIksk8eSleBrxUfHsHXuQ_pb_x600.png',\n",
              "      'bottle_medium_square': '//images.vivino.com/thumbs/cDIksk8eSleBrxUfHsHXuQ_pb_600x600.png',\n",
              "      'bottle_small': '//images.vivino.com/thumbs/cDIksk8eSleBrxUfHsHXuQ_pb_x300.png',\n",
              "      'bottle_small_square': '//images.vivino.com/thumbs/cDIksk8eSleBrxUfHsHXuQ_pb_300x300.png',\n",
              "      'label': '//images.vivino.com/thumbs/cDIksk8eSleBrxUfHsHXuQ_pl_480x640.png',\n",
              "      'label_large': '//images.vivino.com/thumbs/cDIksk8eSleBrxUfHsHXuQ_pl_375x500.png',\n",
              "      'label_medium': '//images.vivino.com/thumbs/cDIksk8eSleBrxUfHsHXuQ_pl_150x200.png',\n",
              "      'label_medium_square': '//images.vivino.com/thumbs/cDIksk8eSleBrxUfHsHXuQ_pl_150x150.png',\n",
              "      'label_small_square': '//images.vivino.com/thumbs/cDIksk8eSleBrxUfHsHXuQ_pl_80x80.png',\n",
              "      'large': '//images.vivino.com/thumbs/cDIksk8eSleBrxUfHsHXuQ_pl_375x500.png',\n",
              "      'medium': '//images.vivino.com/thumbs/cDIksk8eSleBrxUfHsHXuQ_pl_150x200.png',\n",
              "      'medium_square': '//images.vivino.com/thumbs/cDIksk8eSleBrxUfHsHXuQ_pl_150x150.png',\n",
              "      'small_square': '//images.vivino.com/thumbs/cDIksk8eSleBrxUfHsHXuQ_pl_80x80.png'}},\n",
              "    'wine': {'id': 1949854,\n",
              "     'name': 'Merlot',\n",
              "     'seo_name': 'merlot',\n",
              "     'type_id': 1,\n",
              "     'vintage_type': 0,\n",
              "     'is_natural': False,\n",
              "     'region': {'id': 96,\n",
              "      'name': 'Los Carneros',\n",
              "      'name_en': 'Carneros',\n",
              "      'seo_name': 'los-carneros',\n",
              "      'country': {'code': 'us',\n",
              "       'name': 'United States',\n",
              "       'native_name': 'United States',\n",
              "       'seo_name': 'united-states',\n",
              "       'currency': {'code': 'USD',\n",
              "        'name': 'US Dollars',\n",
              "        'prefix': '$',\n",
              "        'suffix': None},\n",
              "       'regions_count': 364,\n",
              "       'users_count': 12706659,\n",
              "       'wines_count': 208713,\n",
              "       'wineries_count': 28347,\n",
              "       'most_used_grapes': [{'id': 2,\n",
              "         'name': 'Cabernet Sauvignon',\n",
              "         'seo_name': 'cabernet-sauvignon',\n",
              "         'has_detailed_info': True,\n",
              "         'wines_count': 801751,\n",
              "         'parent_grape_id': None},\n",
              "        {'id': 14,\n",
              "         'name': 'Pinot Noir',\n",
              "         'seo_name': 'pinot-noir',\n",
              "         'has_detailed_info': True,\n",
              "         'wines_count': 572334,\n",
              "         'parent_grape_id': None},\n",
              "        {'id': 5,\n",
              "         'name': 'Chardonnay',\n",
              "         'seo_name': 'chardonnay',\n",
              "         'has_detailed_info': True,\n",
              "         'wines_count': 604208,\n",
              "         'parent_grape_id': None}]},\n",
              "      'parent_id': 25,\n",
              "      'background_image': None,\n",
              "      'class': {'typecast_map': {'background_image': {}, 'class': {}}},\n",
              "      'statistics': {'wineries_count': 99,\n",
              "       'wines_count': 2032,\n",
              "       'sub_regions_count': 0,\n",
              "       'parent_regions_count': 4}},\n",
              "     'review_status': 2,\n",
              "     'winery': {'id': 107370,\n",
              "      'name': 'Starmont',\n",
              "      'seo_name': 'starmont',\n",
              "      'status': 0,\n",
              "      'review_status': 'Completed',\n",
              "      'background_image': None,\n",
              "      'statistics': {'ratings_count': 19362,\n",
              "       'ratings_average': 3.9,\n",
              "       'labels_count': 217117,\n",
              "       'wines_count': 18}},\n",
              "     'style': None,\n",
              "     'has_valid_ratings': False},\n",
              "    'year': '',\n",
              "    'grapes': None,\n",
              "    'has_valid_ratings': True},\n",
              "   'activity': {'id': 372931697,\n",
              "    'statistics': {'likes_count': 1, 'comments_count': 0}},\n",
              "   'flavor_word_matches': [{'id': 384, 'match': 'smoke'},\n",
              "    {'id': 434, 'match': 'vanilla'},\n",
              "    {'id': 334, 'match': 'plum'}],\n",
              "   'tagged_note': 'Spicy plum on the nose holds promise! Overall flavor notes suggest plum and vanilla spice with a very subtle hint of smoke. Smooth, rich finish with balanced tannins. I’m not typically a merlot drinker, but the complexity of this wine kept my interest!'},\n",
              "  {'id': 187308876,\n",
              "   'rating': 3.5,\n",
              "   'note': 'Second label for Merryvale. Cab wasn’t great but the merlot was quite nice. Deep flavors and very velvety. ',\n",
              "   'language': 'en',\n",
              "   'created_at': '2020-12-19T23:51:13.000Z',\n",
              "   'aggregated': True,\n",
              "   'user': {'id': 18097052,\n",
              "    'seo_name': 'c1230b1789cd16dc4ca1e496bca0747f',\n",
              "    'alias': 'W Adamson',\n",
              "    'is_featured': False,\n",
              "    'is_premium': False,\n",
              "    'visibility': 'all',\n",
              "    'image': {'location': '//images.vivino.com/avatars/default_user.png',\n",
              "     'variations': None},\n",
              "    'statistics': {'followers_count': 1,\n",
              "     'followings_count': 0,\n",
              "     'ratings_count': 164,\n",
              "     'ratings_sum': 628.7,\n",
              "     'reviews_count': 151,\n",
              "     'purchase_order_count': 0},\n",
              "    'language': 'en',\n",
              "    'background_image': {'location': '//images.vivino.com/users/backgrounds/default_1.jpg',\n",
              "     'variations': {'large': '//images.vivino.com/users/backgrounds/default_1_1200x400.jpg',\n",
              "      'medium': '//images.vivino.com/users/backgrounds/default_1_600x200.jpg',\n",
              "      'small': '//images.vivino.com/users/backgrounds/default_1_140x60.jpg'}}},\n",
              "   'vintage': {'id': 3911005,\n",
              "    'seo_name': 'starmont-merlot-uv',\n",
              "    'name': 'Starmont Merlot U.V.',\n",
              "    'statistics': {'status': 'Normal',\n",
              "     'ratings_count': 1287,\n",
              "     'ratings_average': 3.9,\n",
              "     'labels_count': 9,\n",
              "     'reviews_count': 9},\n",
              "    'organic_certification_id': None,\n",
              "    'certified_biodynamic': None,\n",
              "    'image': {'location': '//images.vivino.com/thumbs/cDIksk8eSleBrxUfHsHXuQ_pl_480x640.png',\n",
              "     'variations': {'bottle_large': '//images.vivino.com/thumbs/cDIksk8eSleBrxUfHsHXuQ_pb_x960.png',\n",
              "      'bottle_medium': '//images.vivino.com/thumbs/cDIksk8eSleBrxUfHsHXuQ_pb_x600.png',\n",
              "      'bottle_medium_square': '//images.vivino.com/thumbs/cDIksk8eSleBrxUfHsHXuQ_pb_600x600.png',\n",
              "      'bottle_small': '//images.vivino.com/thumbs/cDIksk8eSleBrxUfHsHXuQ_pb_x300.png',\n",
              "      'bottle_small_square': '//images.vivino.com/thumbs/cDIksk8eSleBrxUfHsHXuQ_pb_300x300.png',\n",
              "      'label': '//images.vivino.com/thumbs/cDIksk8eSleBrxUfHsHXuQ_pl_480x640.png',\n",
              "      'label_large': '//images.vivino.com/thumbs/cDIksk8eSleBrxUfHsHXuQ_pl_375x500.png',\n",
              "      'label_medium': '//images.vivino.com/thumbs/cDIksk8eSleBrxUfHsHXuQ_pl_150x200.png',\n",
              "      'label_medium_square': '//images.vivino.com/thumbs/cDIksk8eSleBrxUfHsHXuQ_pl_150x150.png',\n",
              "      'label_small_square': '//images.vivino.com/thumbs/cDIksk8eSleBrxUfHsHXuQ_pl_80x80.png',\n",
              "      'large': '//images.vivino.com/thumbs/cDIksk8eSleBrxUfHsHXuQ_pl_375x500.png',\n",
              "      'medium': '//images.vivino.com/thumbs/cDIksk8eSleBrxUfHsHXuQ_pl_150x200.png',\n",
              "      'medium_square': '//images.vivino.com/thumbs/cDIksk8eSleBrxUfHsHXuQ_pl_150x150.png',\n",
              "      'small_square': '//images.vivino.com/thumbs/cDIksk8eSleBrxUfHsHXuQ_pl_80x80.png'}},\n",
              "    'wine': {'id': 1949854,\n",
              "     'name': 'Merlot',\n",
              "     'seo_name': 'merlot',\n",
              "     'type_id': 1,\n",
              "     'vintage_type': 0,\n",
              "     'is_natural': False,\n",
              "     'region': {'id': 96,\n",
              "      'name': 'Los Carneros',\n",
              "      'name_en': 'Carneros',\n",
              "      'seo_name': 'los-carneros',\n",
              "      'country': {'code': 'us',\n",
              "       'name': 'United States',\n",
              "       'native_name': 'United States',\n",
              "       'seo_name': 'united-states',\n",
              "       'currency': {'code': 'USD',\n",
              "        'name': 'US Dollars',\n",
              "        'prefix': '$',\n",
              "        'suffix': None},\n",
              "       'regions_count': 364,\n",
              "       'users_count': 12706659,\n",
              "       'wines_count': 208713,\n",
              "       'wineries_count': 28347,\n",
              "       'most_used_grapes': [{'id': 2,\n",
              "         'name': 'Cabernet Sauvignon',\n",
              "         'seo_name': 'cabernet-sauvignon',\n",
              "         'has_detailed_info': True,\n",
              "         'wines_count': 801751,\n",
              "         'parent_grape_id': None},\n",
              "        {'id': 14,\n",
              "         'name': 'Pinot Noir',\n",
              "         'seo_name': 'pinot-noir',\n",
              "         'has_detailed_info': True,\n",
              "         'wines_count': 572334,\n",
              "         'parent_grape_id': None},\n",
              "        {'id': 5,\n",
              "         'name': 'Chardonnay',\n",
              "         'seo_name': 'chardonnay',\n",
              "         'has_detailed_info': True,\n",
              "         'wines_count': 604208,\n",
              "         'parent_grape_id': None}]},\n",
              "      'parent_id': 25,\n",
              "      'background_image': None,\n",
              "      'class': {'typecast_map': {'background_image': {}, 'class': {}}},\n",
              "      'statistics': {'wineries_count': 99,\n",
              "       'wines_count': 2032,\n",
              "       'sub_regions_count': 0,\n",
              "       'parent_regions_count': 4}},\n",
              "     'review_status': 2,\n",
              "     'winery': {'id': 107370,\n",
              "      'name': 'Starmont',\n",
              "      'seo_name': 'starmont',\n",
              "      'status': 0,\n",
              "      'review_status': 'Completed',\n",
              "      'background_image': None,\n",
              "      'statistics': {'ratings_count': 19362,\n",
              "       'ratings_average': 3.9,\n",
              "       'labels_count': 217117,\n",
              "       'wines_count': 18}},\n",
              "     'style': None,\n",
              "     'has_valid_ratings': False},\n",
              "    'year': '',\n",
              "    'grapes': None,\n",
              "    'has_valid_ratings': True},\n",
              "   'activity': {'id': 497616440,\n",
              "    'statistics': {'likes_count': 0, 'comments_count': 0}},\n",
              "   'tagged_note': 'Second label for Merryvale. Cab wasn’t great but the merlot was quite nice. Deep flavors and very velvety. '},\n",
              "  {'id': 151713369,\n",
              "   'rating': 3.0,\n",
              "   'note': 'A bit on the sweet side, but still some powerful plum flavors',\n",
              "   'language': 'en',\n",
              "   'created_at': '2020-01-20T12:00:18.000Z',\n",
              "   'aggregated': True,\n",
              "   'user': {'id': 6060104,\n",
              "    'seo_name': 'ejrg',\n",
              "    'alias': 'Golfnllama',\n",
              "    'is_featured': False,\n",
              "    'is_premium': False,\n",
              "    'visibility': 'all',\n",
              "    'image': {'location': '//images.vivino.com/avatars/default_user.png',\n",
              "     'variations': None},\n",
              "    'statistics': {'followers_count': 3,\n",
              "     'followings_count': 4,\n",
              "     'ratings_count': 196,\n",
              "     'ratings_sum': 695,\n",
              "     'reviews_count': 164,\n",
              "     'purchase_order_count': 0},\n",
              "    'language': 'en',\n",
              "    'background_image': {'location': '//images.vivino.com/users/backgrounds/default_1.jpg',\n",
              "     'variations': {'large': '//images.vivino.com/users/backgrounds/default_1_1200x400.jpg',\n",
              "      'medium': '//images.vivino.com/users/backgrounds/default_1_600x200.jpg',\n",
              "      'small': '//images.vivino.com/users/backgrounds/default_1_140x60.jpg'}}},\n",
              "   'vintage': {'id': 3911005,\n",
              "    'seo_name': 'starmont-merlot-uv',\n",
              "    'name': 'Starmont Merlot U.V.',\n",
              "    'statistics': {'status': 'Normal',\n",
              "     'ratings_count': 1287,\n",
              "     'ratings_average': 3.9,\n",
              "     'labels_count': 9,\n",
              "     'reviews_count': 9},\n",
              "    'organic_certification_id': None,\n",
              "    'certified_biodynamic': None,\n",
              "    'image': {'location': '//images.vivino.com/thumbs/cDIksk8eSleBrxUfHsHXuQ_pl_480x640.png',\n",
              "     'variations': {'bottle_large': '//images.vivino.com/thumbs/cDIksk8eSleBrxUfHsHXuQ_pb_x960.png',\n",
              "      'bottle_medium': '//images.vivino.com/thumbs/cDIksk8eSleBrxUfHsHXuQ_pb_x600.png',\n",
              "      'bottle_medium_square': '//images.vivino.com/thumbs/cDIksk8eSleBrxUfHsHXuQ_pb_600x600.png',\n",
              "      'bottle_small': '//images.vivino.com/thumbs/cDIksk8eSleBrxUfHsHXuQ_pb_x300.png',\n",
              "      'bottle_small_square': '//images.vivino.com/thumbs/cDIksk8eSleBrxUfHsHXuQ_pb_300x300.png',\n",
              "      'label': '//images.vivino.com/thumbs/cDIksk8eSleBrxUfHsHXuQ_pl_480x640.png',\n",
              "      'label_large': '//images.vivino.com/thumbs/cDIksk8eSleBrxUfHsHXuQ_pl_375x500.png',\n",
              "      'label_medium': '//images.vivino.com/thumbs/cDIksk8eSleBrxUfHsHXuQ_pl_150x200.png',\n",
              "      'label_medium_square': '//images.vivino.com/thumbs/cDIksk8eSleBrxUfHsHXuQ_pl_150x150.png',\n",
              "      'label_small_square': '//images.vivino.com/thumbs/cDIksk8eSleBrxUfHsHXuQ_pl_80x80.png',\n",
              "      'large': '//images.vivino.com/thumbs/cDIksk8eSleBrxUfHsHXuQ_pl_375x500.png',\n",
              "      'medium': '//images.vivino.com/thumbs/cDIksk8eSleBrxUfHsHXuQ_pl_150x200.png',\n",
              "      'medium_square': '//images.vivino.com/thumbs/cDIksk8eSleBrxUfHsHXuQ_pl_150x150.png',\n",
              "      'small_square': '//images.vivino.com/thumbs/cDIksk8eSleBrxUfHsHXuQ_pl_80x80.png'}},\n",
              "    'wine': {'id': 1949854,\n",
              "     'name': 'Merlot',\n",
              "     'seo_name': 'merlot',\n",
              "     'type_id': 1,\n",
              "     'vintage_type': 0,\n",
              "     'is_natural': False,\n",
              "     'region': {'id': 96,\n",
              "      'name': 'Los Carneros',\n",
              "      'name_en': 'Carneros',\n",
              "      'seo_name': 'los-carneros',\n",
              "      'country': {'code': 'us',\n",
              "       'name': 'United States',\n",
              "       'native_name': 'United States',\n",
              "       'seo_name': 'united-states',\n",
              "       'currency': {'code': 'USD',\n",
              "        'name': 'US Dollars',\n",
              "        'prefix': '$',\n",
              "        'suffix': None},\n",
              "       'regions_count': 364,\n",
              "       'users_count': 12706659,\n",
              "       'wines_count': 208713,\n",
              "       'wineries_count': 28347,\n",
              "       'most_used_grapes': [{'id': 2,\n",
              "         'name': 'Cabernet Sauvignon',\n",
              "         'seo_name': 'cabernet-sauvignon',\n",
              "         'has_detailed_info': True,\n",
              "         'wines_count': 801751,\n",
              "         'parent_grape_id': None},\n",
              "        {'id': 14,\n",
              "         'name': 'Pinot Noir',\n",
              "         'seo_name': 'pinot-noir',\n",
              "         'has_detailed_info': True,\n",
              "         'wines_count': 572334,\n",
              "         'parent_grape_id': None},\n",
              "        {'id': 5,\n",
              "         'name': 'Chardonnay',\n",
              "         'seo_name': 'chardonnay',\n",
              "         'has_detailed_info': True,\n",
              "         'wines_count': 604208,\n",
              "         'parent_grape_id': None}]},\n",
              "      'parent_id': 25,\n",
              "      'background_image': None,\n",
              "      'class': {'typecast_map': {'background_image': {}, 'class': {}}},\n",
              "      'statistics': {'wineries_count': 99,\n",
              "       'wines_count': 2032,\n",
              "       'sub_regions_count': 0,\n",
              "       'parent_regions_count': 4}},\n",
              "     'review_status': 2,\n",
              "     'winery': {'id': 107370,\n",
              "      'name': 'Starmont',\n",
              "      'seo_name': 'starmont',\n",
              "      'status': 0,\n",
              "      'review_status': 'Completed',\n",
              "      'background_image': None,\n",
              "      'statistics': {'ratings_count': 19362,\n",
              "       'ratings_average': 3.9,\n",
              "       'labels_count': 217117,\n",
              "       'wines_count': 18}},\n",
              "     'style': None,\n",
              "     'has_valid_ratings': False},\n",
              "    'year': '',\n",
              "    'grapes': None,\n",
              "    'has_valid_ratings': True},\n",
              "   'activity': {'id': 411106429,\n",
              "    'statistics': {'likes_count': 0, 'comments_count': 0}},\n",
              "   'flavor_word_matches': [{'id': 334, 'match': 'plum'}],\n",
              "   'tagged_note': 'A bit on the sweet side, but still some powerful plum flavors'}]}"
            ]
          },
          "execution_count": 6,
          "metadata": {},
          "output_type": "execute_result"
        }
      ],
      "source": [
        "data_dict"
      ]
    },
    {
      "cell_type": "code",
      "execution_count": 32,
      "metadata": {
        "colab": {
          "base_uri": "https://localhost:8080/",
          "height": 399
        },
        "id": "151rivzW88qY",
        "outputId": "ab1c853f-dbce-480b-fc0c-9569718fca29"
      },
      "outputs": [
        {
          "ename": "KeyboardInterrupt",
          "evalue": "",
          "output_type": "error",
          "traceback": [
            "\u001b[0;31m---------------------------------------------------------------------------\u001b[0m",
            "\u001b[0;31mKeyboardInterrupt\u001b[0m                         Traceback (most recent call last)",
            "\u001b[0;32m<ipython-input-32-394012356404>\u001b[0m in \u001b[0;36m<cell line: 3>\u001b[0;34m()\u001b[0m\n\u001b[1;32m      2\u001b[0m \u001b[0;34m\u001b[0m\u001b[0m\n\u001b[1;32m      3\u001b[0m \u001b[0;32mfor\u001b[0m \u001b[0mi\u001b[0m \u001b[0;32min\u001b[0m \u001b[0mrange\u001b[0m\u001b[0;34m(\u001b[0m\u001b[0mdataframe\u001b[0m\u001b[0;34m.\u001b[0m\u001b[0mshape\u001b[0m\u001b[0;34m[\u001b[0m\u001b[0;36m0\u001b[0m\u001b[0;34m]\u001b[0m\u001b[0;34m)\u001b[0m\u001b[0;34m:\u001b[0m\u001b[0;34m\u001b[0m\u001b[0;34m\u001b[0m\u001b[0m\n\u001b[0;32m----> 4\u001b[0;31m     \u001b[0mdata_dict\u001b[0m \u001b[0;34m=\u001b[0m \u001b[0mast\u001b[0m\u001b[0;34m.\u001b[0m\u001b[0mliteral_eval\u001b[0m\u001b[0;34m(\u001b[0m\u001b[0mdataframe\u001b[0m\u001b[0;34m[\u001b[0m\u001b[0;34m'wines'\u001b[0m\u001b[0;34m]\u001b[0m\u001b[0;34m[\u001b[0m\u001b[0mi\u001b[0m\u001b[0;34m]\u001b[0m\u001b[0;34m)\u001b[0m\u001b[0;34m\u001b[0m\u001b[0;34m\u001b[0m\u001b[0m\n\u001b[0m\u001b[1;32m      5\u001b[0m     \u001b[0mselected_data\u001b[0m \u001b[0;34m=\u001b[0m \u001b[0;34m{\u001b[0m\u001b[0;34m}\u001b[0m\u001b[0;34m\u001b[0m\u001b[0;34m\u001b[0m\u001b[0m\n\u001b[1;32m      6\u001b[0m     \u001b[0mselected_data\u001b[0m\u001b[0;34m[\u001b[0m\u001b[0;34m'style_name'\u001b[0m\u001b[0;34m]\u001b[0m \u001b[0;34m=\u001b[0m \u001b[0mdata_dict\u001b[0m\u001b[0;34m[\u001b[0m\u001b[0;34m'name'\u001b[0m\u001b[0;34m]\u001b[0m\u001b[0;34m\u001b[0m\u001b[0;34m\u001b[0m\u001b[0m\n",
            "\u001b[0;32m/usr/lib/python3.10/ast.py\u001b[0m in \u001b[0;36mliteral_eval\u001b[0;34m(node_or_string)\u001b[0m\n\u001b[1;32m     62\u001b[0m     \"\"\"\n\u001b[1;32m     63\u001b[0m     \u001b[0;32mif\u001b[0m \u001b[0misinstance\u001b[0m\u001b[0;34m(\u001b[0m\u001b[0mnode_or_string\u001b[0m\u001b[0;34m,\u001b[0m \u001b[0mstr\u001b[0m\u001b[0;34m)\u001b[0m\u001b[0;34m:\u001b[0m\u001b[0;34m\u001b[0m\u001b[0;34m\u001b[0m\u001b[0m\n\u001b[0;32m---> 64\u001b[0;31m         \u001b[0mnode_or_string\u001b[0m \u001b[0;34m=\u001b[0m \u001b[0mparse\u001b[0m\u001b[0;34m(\u001b[0m\u001b[0mnode_or_string\u001b[0m\u001b[0;34m.\u001b[0m\u001b[0mlstrip\u001b[0m\u001b[0;34m(\u001b[0m\u001b[0;34m\" \\t\"\u001b[0m\u001b[0;34m)\u001b[0m\u001b[0;34m,\u001b[0m \u001b[0mmode\u001b[0m\u001b[0;34m=\u001b[0m\u001b[0;34m'eval'\u001b[0m\u001b[0;34m)\u001b[0m\u001b[0;34m\u001b[0m\u001b[0;34m\u001b[0m\u001b[0m\n\u001b[0m\u001b[1;32m     65\u001b[0m     \u001b[0;32mif\u001b[0m \u001b[0misinstance\u001b[0m\u001b[0;34m(\u001b[0m\u001b[0mnode_or_string\u001b[0m\u001b[0;34m,\u001b[0m \u001b[0mExpression\u001b[0m\u001b[0;34m)\u001b[0m\u001b[0;34m:\u001b[0m\u001b[0;34m\u001b[0m\u001b[0;34m\u001b[0m\u001b[0m\n\u001b[1;32m     66\u001b[0m         \u001b[0mnode_or_string\u001b[0m \u001b[0;34m=\u001b[0m \u001b[0mnode_or_string\u001b[0m\u001b[0;34m.\u001b[0m\u001b[0mbody\u001b[0m\u001b[0;34m\u001b[0m\u001b[0;34m\u001b[0m\u001b[0m\n",
            "\u001b[0;32m/usr/lib/python3.10/ast.py\u001b[0m in \u001b[0;36mparse\u001b[0;34m(source, filename, mode, type_comments, feature_version)\u001b[0m\n\u001b[1;32m     48\u001b[0m         \u001b[0mfeature_version\u001b[0m \u001b[0;34m=\u001b[0m \u001b[0;34m-\u001b[0m\u001b[0;36m1\u001b[0m\u001b[0;34m\u001b[0m\u001b[0;34m\u001b[0m\u001b[0m\n\u001b[1;32m     49\u001b[0m     \u001b[0;31m# Else it should be an int giving the minor version for 3.x.\u001b[0m\u001b[0;34m\u001b[0m\u001b[0;34m\u001b[0m\u001b[0m\n\u001b[0;32m---> 50\u001b[0;31m     return compile(source, filename, mode, flags,\n\u001b[0m\u001b[1;32m     51\u001b[0m                    _feature_version=feature_version)\n\u001b[1;32m     52\u001b[0m \u001b[0;34m\u001b[0m\u001b[0m\n",
            "\u001b[0;31mKeyboardInterrupt\u001b[0m: "
          ]
        }
      ],
      "source": [
        "data_list = []\n",
        "\n",
        "for i in range(dataframe.shape[0]):\n",
        "    data_dict = ast.literal_eval(dataframe['wines'][i])\n",
        "    selected_data = {}\n",
        "    selected_data['style_name'] = data_dict['name']\n",
        "    selected_data['price'] = data_dict['price']['amount']\n",
        "    selected_data['currency'] = data_dict['price']['currency']['code']\n",
        "    selected_data['volume'] = data_dict['price']['bottle_type']['volume_ml']\n",
        "\n",
        "    if data_dict['taste'] is not None and data_dict['taste']['structure'] is not None:\n",
        "        selected_data['acidity'] = data_dict['taste']['structure'].get('acidity', None)\n",
        "        selected_data['fizziness'] = data_dict['taste']['structure'].get('fizziness', None)\n",
        "        selected_data['sweetness'] = data_dict['taste']['structure'].get('sweetness', None)\n",
        "        selected_data['tannin'] = data_dict['taste']['structure'].get('tannin', None)\n",
        "        selected_data['user_structure_count'] = data_dict['taste']['structure'].get('user_structure_count', None)\n",
        "        selected_data['calculated_structure_count'] = data_dict['taste']['structure'].get('calculated_structure_count', None)\n",
        "        # selected_data['flavour_list'] = data_dict['taste']['flavor']\n",
        "\n",
        "\n",
        "    reviews = data_dict['reviews']\n",
        "    vintages = [reviews[i]['vintage'] for i in range(len(reviews))]\n",
        "    selected_data['wine_name'] = vintages[0]['name']\n",
        "    region = vintages[0]['wine']['region']\n",
        "    selected_data['region_name'] = region['name']\n",
        "    selected_data['country'] = region['country']['name']\n",
        "    selected_data['winery'] = vintages[0]['wine']['winery']['name']\n",
        "\n",
        "df = pd.DataFrame(data_list)\n"
      ]
    },
    {
      "cell_type": "code",
      "execution_count": 47,
      "metadata": {
        "colab": {
          "base_uri": "https://localhost:8080/"
        },
        "id": "RvkyhLy57OSr",
        "outputId": "5d3b05d6-6882-4eef-f7a7-6713166281cb"
      },
      "outputs": [
        {
          "name": "stdout",
          "output_type": "stream",
          "text": [
            "{'group': 'oak', 'stats': {'count': 5, 'score': 630, 'mentions_count': 7}, 'primary_keywords': [{'id': 292, 'name': 'oak', 'count': 3}, {'id': 434, 'name': 'vanilla', 'count': 3}, {'id': 118, 'name': 'cola', 'count': 1}]}\n",
            "{'group': 'black_fruit', 'stats': {'count': 3, 'score': 500, 'mentions_count': 5}, 'primary_keywords': [{'id': 49, 'name': 'blackberry', 'count': 3}, {'id': 470, 'name': 'cassis', 'count': 1}, {'id': 334, 'name': 'plum', 'count': 1}]}\n",
            "{'group': 'non_oak', 'stats': {'count': 4, 'score': 52, 'mentions_count': 0}, 'secondary_keywords': [{'id': 434, 'name': 'vanilla', 'count': 3}, {'id': 118, 'name': 'cola', 'count': 1}]}\n",
            "{'group': 'spices', 'stats': {'count': 3, 'score': 18, 'mentions_count': 0}, 'secondary_keywords': [{'id': 434, 'name': 'vanilla', 'count': 3}]}\n"
          ]
        }
      ],
      "source": [
        "tastes = []\n",
        "for taste_type in data_dict['taste']['flavor']:\n",
        "    print(taste_type)\n",
        "    try:\n",
        "        for taste in taste_type['primary_keywords']:\n",
        "            tastes.append({taste['name']: taste['count']})\n",
        "    except:\n",
        "        pass\n",
        "\n",
        "    try:\n",
        "        for taste in taste_type['secondary_keywords']:\n",
        "            tastes.append({taste['name']: taste['count']})\n",
        "    except:\n",
        "        pass\n",
        "\n",
        "    # for pk in taste_type['primary_keywords']:\n",
        "    #     print(pk)\n"
      ]
    },
    {
      "cell_type": "code",
      "execution_count": 48,
      "metadata": {
        "colab": {
          "base_uri": "https://localhost:8080/"
        },
        "id": "ePZdlfu07dbm",
        "outputId": "e3c189d5-c648-4e4a-d2ec-1fed57d369e8"
      },
      "outputs": [
        {
          "data": {
            "text/plain": [
              "[{'oak': 3},\n",
              " {'vanilla': 3},\n",
              " {'cola': 1},\n",
              " {'blackberry': 3},\n",
              " {'cassis': 1},\n",
              " {'plum': 1},\n",
              " {'vanilla': 3},\n",
              " {'cola': 1},\n",
              " {'vanilla': 3}]"
            ]
          },
          "execution_count": 48,
          "metadata": {},
          "output_type": "execute_result"
        }
      ],
      "source": [
        "tastes"
      ]
    },
    {
      "cell_type": "code",
      "execution_count": 28,
      "metadata": {
        "colab": {
          "base_uri": "https://localhost:8080/",
          "height": 35
        },
        "id": "3-4sM2nr40wB",
        "outputId": "202afb74-eb00-4e11-d94b-4501301b0c98"
      },
      "outputs": [
        {
          "data": {
            "application/vnd.google.colaboratory.intrinsic+json": {
              "type": "string"
            },
            "text/plain": [
              "'Starmont'"
            ]
          },
          "execution_count": 28,
          "metadata": {},
          "output_type": "execute_result"
        }
      ],
      "source": [
        "vintages[0]['wine']['winery']['name']"
      ]
    },
    {
      "cell_type": "code",
      "execution_count": 12,
      "metadata": {
        "colab": {
          "base_uri": "https://localhost:8080/"
        },
        "id": "LFxj2z5GEuU-",
        "outputId": "ad2747c4-992d-4b90-d534-821718d84ed1"
      },
      "outputs": [
        {
          "data": {
            "text/plain": [
              "dict_keys(['id', 'seo_name', 'name', 'statistics', 'organic_certification_id', 'certified_biodynamic', 'image', 'wine', 'year', 'grapes', 'has_valid_ratings'])"
            ]
          },
          "execution_count": 12,
          "metadata": {},
          "output_type": "execute_result"
        }
      ],
      "source": [
        "vintages[0].keys()"
      ]
    },
    {
      "cell_type": "code",
      "execution_count": 18,
      "metadata": {
        "colab": {
          "base_uri": "https://localhost:8080/"
        },
        "id": "R6GcNJwFDo23",
        "outputId": "48e65cf0-658e-4464-9474-678d729584fa"
      },
      "outputs": [
        {
          "data": {
            "text/plain": [
              "{'id': 96,\n",
              " 'name': 'Los Carneros',\n",
              " 'name_en': 'Carneros',\n",
              " 'seo_name': 'los-carneros',\n",
              " 'country': {'code': 'us',\n",
              "  'name': 'United States',\n",
              "  'native_name': 'United States',\n",
              "  'seo_name': 'united-states',\n",
              "  'currency': {'code': 'USD',\n",
              "   'name': 'US Dollars',\n",
              "   'prefix': '$',\n",
              "   'suffix': None},\n",
              "  'regions_count': 364,\n",
              "  'users_count': 12706659,\n",
              "  'wines_count': 208713,\n",
              "  'wineries_count': 28347,\n",
              "  'most_used_grapes': [{'id': 2,\n",
              "    'name': 'Cabernet Sauvignon',\n",
              "    'seo_name': 'cabernet-sauvignon',\n",
              "    'has_detailed_info': True,\n",
              "    'wines_count': 801751,\n",
              "    'parent_grape_id': None},\n",
              "   {'id': 14,\n",
              "    'name': 'Pinot Noir',\n",
              "    'seo_name': 'pinot-noir',\n",
              "    'has_detailed_info': True,\n",
              "    'wines_count': 572334,\n",
              "    'parent_grape_id': None},\n",
              "   {'id': 5,\n",
              "    'name': 'Chardonnay',\n",
              "    'seo_name': 'chardonnay',\n",
              "    'has_detailed_info': True,\n",
              "    'wines_count': 604208,\n",
              "    'parent_grape_id': None}]},\n",
              " 'parent_id': 25,\n",
              " 'background_image': None,\n",
              " 'class': {'typecast_map': {'background_image': {}, 'class': {}}},\n",
              " 'statistics': {'wineries_count': 99,\n",
              "  'wines_count': 2032,\n",
              "  'sub_regions_count': 0,\n",
              "  'parent_regions_count': 4}}"
            ]
          },
          "execution_count": 18,
          "metadata": {},
          "output_type": "execute_result"
        }
      ],
      "source": [
        "region"
      ]
    },
    {
      "cell_type": "code",
      "execution_count": 38,
      "metadata": {
        "colab": {
          "base_uri": "https://localhost:8080/",
          "height": 35
        },
        "id": "Mf1coLt4dQGg",
        "outputId": "45a64d8f-5653-4e1e-aa7b-cb85f84d4c7f"
      },
      "outputs": [
        {
          "data": {
            "application/vnd.google.colaboratory.intrinsic+json": {
              "type": "string"
            },
            "text/plain": [
              "'Tenuta San Marcello Indisciplinato U.V.'"
            ]
          },
          "execution_count": 38,
          "metadata": {},
          "output_type": "execute_result"
        }
      ],
      "source": [
        "wine_name"
      ]
    },
    {
      "cell_type": "code",
      "execution_count": null,
      "metadata": {
        "id": "PNhMj9qBDYlc"
      },
      "outputs": [],
      "source": [
        "# all_flavours = {}\n",
        "# overal_mentions_count = 0"
      ]
    },
    {
      "cell_type": "code",
      "execution_count": null,
      "metadata": {
        "id": "RYPCASYhDa6q"
      },
      "outputs": [],
      "source": [
        "# for group in flavour_list:\n",
        "#     overal_mentions_count += group['stats']['count']"
      ]
    },
    {
      "cell_type": "code",
      "execution_count": null,
      "metadata": {
        "id": "5LKyZFRvBQ0T"
      },
      "outputs": [],
      "source": [
        "# for group in flavour_list:\n",
        "#     for flavour in group['primary_keywords']:\n",
        "#         all_flavours[flavour['name']] = flavour['count']"
      ]
    },
    {
      "cell_type": "code",
      "execution_count": null,
      "metadata": {
        "colab": {
          "base_uri": "https://localhost:8080/"
        },
        "id": "IstnxJXP9AKn",
        "outputId": "e127e1fa-0b33-4e8e-8e16-1b9001844064"
      },
      "outputs": [
        {
          "data": {
            "text/plain": [
              "[{'group': 'tree_fruit',\n",
              "  'stats': {'count': 95, 'score': 15900, 'mentions_count': 159},\n",
              "  'primary_keywords': [{'id': 310, 'name': 'peach', 'count': 59},\n",
              "   {'id': 315, 'name': 'pear', 'count': 37},\n",
              "   {'id': 11, 'name': 'apricot', 'count': 28},\n",
              "   {'id': 271, 'name': 'melon', 'count': 16},\n",
              "   {'id': 9, 'name': 'apple', 'count': 11},\n",
              "   {'id': 195, 'name': 'green apple', 'count': 3},\n",
              "   {'id': 469, 'name': 'stone fruit', 'count': 1},\n",
              "   {'id': 288, 'name': 'nectarine', 'count': 1},\n",
              "   {'id': 78, 'name': 'cantaloupe', 'count': 1},\n",
              "   {'id': 204, 'name': 'green pear', 'count': 1},\n",
              "   {'id': 448, 'name': 'white peach', 'count': 1}]},\n",
              " {'group': 'earth',\n",
              "  'stats': {'count': 56, 'score': 5720, 'mentions_count': 57},\n",
              "  'primary_keywords': [{'id': 218, 'name': 'honey', 'count': 51},\n",
              "   {'id': 276, 'name': 'minerals', 'count': 3},\n",
              "   {'id': 178, 'name': 'game', 'count': 2},\n",
              "   {'id': 398, 'name': 'stone', 'count': 1}],\n",
              "  'secondary_keywords': [{'id': 6, 'name': 'almond', 'count': 1}]},\n",
              " {'group': 'tropical_fruit',\n",
              "  'stats': {'count': 25, 'score': 3200, 'mentions_count': 32},\n",
              "  'primary_keywords': [{'id': 329, 'name': 'pineapple', 'count': 13},\n",
              "   {'id': 256, 'name': 'lychee', 'count': 6},\n",
              "   {'id': 428, 'name': 'tropical', 'count': 4},\n",
              "   {'id': 261, 'name': 'mango', 'count': 3},\n",
              "   {'id': 210, 'name': 'guava', 'count': 3},\n",
              "   {'id': 67, 'name': 'bubblegum', 'count': 2},\n",
              "   {'id': 306, 'name': 'passion fruit', 'count': 1}]},\n",
              " {'group': 'citrus_fruit',\n",
              "  'stats': {'count': 18, 'score': 2000, 'mentions_count': 20},\n",
              "  'primary_keywords': [{'id': 106, 'name': 'citrus', 'count': 13},\n",
              "   {'id': 243, 'name': 'lemon', 'count': 3},\n",
              "   {'id': 411, 'name': 'tangerine', 'count': 1},\n",
              "   {'id': 298, 'name': 'orange', 'count': 1},\n",
              "   {'id': 190, 'name': 'grapefruit', 'count': 1},\n",
              "   {'id': 252, 'name': 'lime', 'count': 1}]},\n",
              " {'group': 'floral',\n",
              "  'stats': {'count': 10, 'score': 1100, 'mentions_count': 11},\n",
              "  'primary_keywords': [{'id': 221, 'name': 'honeysuckle', 'count': 6},\n",
              "   {'id': 230, 'name': 'jasmine', 'count': 3},\n",
              "   {'id': 299, 'name': 'orange blossom', 'count': 1},\n",
              "   {'id': 322, 'name': 'perfume', 'count': 1}]},\n",
              " {'group': 'oak',\n",
              "  'stats': {'count': 9, 'score': 710, 'mentions_count': 8},\n",
              "  'primary_keywords': [{'id': 434, 'name': 'vanilla', 'count': 6},\n",
              "   {'id': 79, 'name': 'caramel', 'count': 1},\n",
              "   {'id': 70, 'name': 'butter', 'count': 1}],\n",
              "  'secondary_keywords': [{'id': 6, 'name': 'almond', 'count': 1},\n",
              "   {'id': 105, 'name': 'cinnamon', 'count': 1}]},\n",
              " {'group': 'dried_fruit',\n",
              "  'stats': {'count': 5, 'score': 500, 'mentions_count': 5},\n",
              "  'primary_keywords': [{'id': 347, 'name': 'raisin', 'count': 2},\n",
              "   {'id': 140, 'name': 'dried apricot', 'count': 1},\n",
              "   {'id': 139, 'name': 'dragon fruit', 'count': 1},\n",
              "   {'id': 184, 'name': 'golden raisin', 'count': 1}]},\n",
              " {'group': 'red_fruit',\n",
              "  'stats': {'count': 4, 'score': 400, 'mentions_count': 4},\n",
              "  'primary_keywords': [{'id': 400, 'name': 'strawberry', 'count': 4}]},\n",
              " {'group': 'non_oak',\n",
              "  'stats': {'count': 10, 'score': 330, 'mentions_count': 3},\n",
              "  'primary_keywords': [{'id': 6, 'name': 'almond', 'count': 1},\n",
              "   {'id': 262, 'name': 'maple syrup', 'count': 1},\n",
              "   {'id': 281, 'name': 'molasses', 'count': 1}],\n",
              "  'secondary_keywords': [{'id': 434, 'name': 'vanilla', 'count': 6},\n",
              "   {'id': 79, 'name': 'caramel', 'count': 1},\n",
              "   {'id': 105, 'name': 'cinnamon', 'count': 1}]},\n",
              " {'group': 'microbio',\n",
              "  'stats': {'count': 5, 'score': 343, 'mentions_count': 3},\n",
              "  'primary_keywords': [{'id': 92, 'name': 'cheesy', 'count': 1},\n",
              "   {'id': 91, 'name': 'cheese', 'count': 1},\n",
              "   {'id': 457, 'name': 'yeast', 'count': 1}],\n",
              "  'secondary_keywords': [{'id': 6, 'name': 'almond', 'count': 1},\n",
              "   {'id': 70, 'name': 'butter', 'count': 1}]},\n",
              " {'group': 'spices',\n",
              "  'stats': {'count': 8, 'score': 187, 'mentions_count': 2},\n",
              "  'primary_keywords': [{'id': 105, 'name': 'cinnamon', 'count': 1},\n",
              "   {'id': 320, 'name': 'pepper', 'count': 1}],\n",
              "  'secondary_keywords': [{'id': 434, 'name': 'vanilla', 'count': 6}]},\n",
              " {'group': 'vegetal',\n",
              "  'stats': {'count': 2, 'score': 110, 'mentions_count': 1},\n",
              "  'primary_keywords': [{'id': 399, 'name': 'straw', 'count': 1}],\n",
              "  'secondary_keywords': [{'id': 6, 'name': 'almond', 'count': 1}]}]"
            ]
          },
          "execution_count": 32,
          "metadata": {},
          "output_type": "execute_result"
        }
      ],
      "source": [
        "flavour_list"
      ]
    }
  ],
  "metadata": {
    "colab": {
      "provenance": []
    },
    "kernelspec": {
      "display_name": "Python 3",
      "name": "python3"
    },
    "language_info": {
      "name": "python"
    }
  },
  "nbformat": 4,
  "nbformat_minor": 0
}
